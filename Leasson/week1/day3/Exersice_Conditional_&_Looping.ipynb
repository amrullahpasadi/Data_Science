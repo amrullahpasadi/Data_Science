{
  "cells": [
    {
      "attachments": {},
      "cell_type": "markdown",
      "metadata": {
        "id": "f3fwm9AXSf4W"
      },
      "source": [
        "# LATIHAN - P0W1D3AM : Conditional & Looping"
      ]
    },
    {
      "attachments": {},
      "cell_type": "markdown",
      "metadata": {
        "id": "KwQ65oWbSk3E"
      },
      "source": [
        "Leasson Video [link](https://drive.google.com/file/d/15-5oeRzBu_yYYtlUlDqllZP8frQQZyJt/view)\n",
        "**NOMOR 1**\n",
        "\n",
        "Buatlah sebuah kondisi untuk mengecek apakah variabel `a` **lebih kecil** dari variabel `b` berdasarkan nilai dibawah ini :\n",
        "* `a` = 100\n",
        "* `b` = 200\n",
        "\n",
        "Jika `True` maka tulis/cetak `a lebih kecil dari b`"
      ]
    },
    {
      "cell_type": "code",
      "execution_count": 1,
      "metadata": {
        "colab": {
          "base_uri": "https://localhost:8080/"
        },
        "id": "69NAYgLCvpxk",
        "outputId": "0f743dc2-3e22-4bba-c7c0-d476bc04624c"
      },
      "outputs": [
        {
          "name": "stdout",
          "output_type": "stream",
          "text": [
            "benar a lebih kecil dari b\n"
          ]
        }
      ],
      "source": [
        "a = 100\n",
        "b = 200\n",
        "if a < b: #kondisi yang harus terpenuhi\n",
        "  print(\"benar a lebih kecil dari b\") #perintah yang dieksekusi"
      ]
    },
    {
      "attachments": {},
      "cell_type": "markdown",
      "metadata": {
        "id": "3VTram85TxLA"
      },
      "source": [
        "**NOMOR 2**\n",
        "\n",
        "Buatlah sebuah kondisi untuk mengecek apakah variabel `a` **lebih besar** dari variabel `b` berdasarkan nilai dibawah ini :\n",
        "* `a` = 100\n",
        "* `b` = 200\n",
        "\n",
        "Jika `True` maka tulis/cetak `a lebih besar dari b`"
      ]
    },
    {
      "cell_type": "code",
      "execution_count": 2,
      "metadata": {
        "colab": {
          "base_uri": "https://localhost:8080/"
        },
        "id": "YjaPK26FwIJt",
        "outputId": "c3b8fbfb-ed28-43f3-feaf-a165f9d358c9"
      },
      "outputs": [
        {
          "name": "stdout",
          "output_type": "stream",
          "text": [
            "angka a lebig kecil dari b\n"
          ]
        }
      ],
      "source": [
        "if a > b: #kondisi yang harus terpenuhi\n",
        "  print(\"benar angka a lebih besar dari b\") #perintah yang dieksekusi jika kondisi terpenuhi/true\n",
        "else:\n",
        "  print(\"angka a lebig kecil dari b\") #peritah yang diekse kusi jika kondisi tidak terpenuhi/false"
      ]
    },
    {
      "attachments": {},
      "cell_type": "markdown",
      "metadata": {
        "id": "nJ04rhbDUDuI"
      },
      "source": [
        "**NOMOR 3**\n",
        "\n",
        "Buatlah sebuah kondisi untuk mengecek apakah variabel `a` **tidak sama dengan**  variabel `b` berdasarkan nilai dibawah ini :\n",
        "* `a` = `januari`\n",
        "* `b` = `februari`\n",
        "\n",
        "Jika `True` maka tulis/cetak `a tidak sama dengan b`\n",
        "\n",
        "Jika `False` maka tulis/cetak `a sama dengan b`"
      ]
    },
    {
      "cell_type": "code",
      "execution_count": 3,
      "metadata": {
        "colab": {
          "base_uri": "https://localhost:8080/"
        },
        "id": "UqwStCJKwxs4",
        "outputId": "5762a1be-7852-4d3d-f0a3-13157231c73a"
      },
      "outputs": [
        {
          "name": "stdout",
          "output_type": "stream",
          "text": [
            "a tidak sama dengan b\n"
          ]
        }
      ],
      "source": [
        "a = \"januari\" \n",
        "b = \"februari\"\n",
        "\n",
        "if a != b: #variabel a dan b string dan casesensitiv\n",
        "  print(\"a tidak sama dengan b\")\n",
        "else:\n",
        "  print(\"a sama dengan b\")"
      ]
    },
    {
      "attachments": {},
      "cell_type": "markdown",
      "metadata": {
        "id": "bbHY6mLEfCtm"
      },
      "source": [
        "**NOMOR 4**\n",
        "\n",
        "Buatlah sebuah kondisi untuk mengecek apakah variabel `a` **sama dengan**  variabel `b` berdasarkan nilai dibawah ini :\n",
        "* `a` = 1000\n",
        "* `b` = 1000.0\n",
        "\n",
        "Jika `True` maka jangan menampilkan apapun\n",
        "\n",
        "Jika `False` maka tulis/cetak `a tidak sama dengan b`"
      ]
    },
    {
      "cell_type": "code",
      "execution_count": 5,
      "metadata": {
        "id": "1X5cgP8WxpAr"
      },
      "outputs": [],
      "source": [
        "a = 1000 #variabel int\n",
        "b = 1000.0 #fariabel float\n",
        "\n",
        "if a == b: #kondisi yang harus terpenuhi\n",
        "  pass     #perintah pass atau tidak menampilkan dan eksekusi apapun jika true\n",
        "else:\n",
        "  print(\"a tidak sama dengn b\")  "
      ]
    },
    {
      "attachments": {},
      "cell_type": "markdown",
      "metadata": {
        "id": "b_v1w6L-VsD8"
      },
      "source": [
        "**NOMOR 5**\n",
        "\n",
        "Buatlah sebuah kondisi untuk mengecek apakah variabel `a` **berbeda**  variabel `b` berdasarkan nilai dibawah ini :\n",
        "* `angka_ganjil` = `[1, 3, 5, 7]`\n",
        "* `angka_genap`  = `[2, 4, 6, 8]`\n",
        "\n",
        "Jika `True` maka tulis/cetak `angka_ganjil berbeda dengan angka_genap`\n",
        "\n",
        "Jika `False` maka tulis/cetak `angka_ganjil sama dengan angka_genap`"
      ]
    },
    {
      "cell_type": "code",
      "execution_count": 6,
      "metadata": {
        "colab": {
          "base_uri": "https://localhost:8080/"
        },
        "id": "91ydOzHXyr2m",
        "outputId": "219e3c5b-549d-4e23-859a-4ff5d3431865"
      },
      "outputs": [
        {
          "name": "stdout",
          "output_type": "stream",
          "text": [
            "angka_ganjil berbeda dengan angka_genap\n"
          ]
        }
      ],
      "source": [
        "angka_ganjil = [1,3,5,7] #variabel List\n",
        "angka_genap  = [2,4,6,8] #variabel list\n",
        "\n",
        "if angka_ganjil != angka_genap:\n",
        "  print(\"angka_ganjil berbeda dengan angka_genap\")\n",
        "else:\n",
        "  print(\"angka_ganjil sama dengan angka_genap\")"
      ]
    },
    {
      "attachments": {},
      "cell_type": "markdown",
      "metadata": {
        "id": "SYcUlu-Qch44"
      },
      "source": [
        "**NOMOR 6**\n",
        "\n",
        "Buatlah sebuah kondisi untuk mengecek apakah variabel-variabel dibawah ini mempunyai nilai atau tidak \n",
        "\n",
        "* `nama` = `budi`\n",
        "* `usia` = 20\n",
        "* `jenis_kelamin_pria` = True\n",
        "* `alamat` = `None`\n",
        "* `jumlah_motor` = 0\n",
        "* `punya_rumah` = `False`\n",
        "\n",
        "Jika True maka tulis/cetak `ada`\n",
        "\n",
        "Jika False maka tulis/cetak `tidak ada`"
      ]
    },
    {
      "cell_type": "code",
      "execution_count": 10,
      "metadata": {
        "colab": {
          "base_uri": "https://localhost:8080/"
        },
        "id": "LeIOgMajzozB",
        "outputId": "487bffbf-2d38-4cdb-bbee-246491537296"
      },
      "outputs": [
        {
          "name": "stdout",
          "output_type": "stream",
          "text": [
            "ada\n"
          ]
        }
      ],
      "source": [
        "nama = \"budi\"\n",
        "usia = 20\n",
        "jenis_kelamin_pria = True\n",
        "alamat = None\n",
        "jumlah_motor = 0\n",
        "punya_rumah = False\n",
        "\n",
        "if jenis_kelamin_pria: #hanya menuliskan variabel pada kondisi untuk mengecek nilai pada variabel\n",
        "  print(\"ada\")\n",
        "else:\n",
        "  print(\"tidak ada\")"
      ]
    },
    {
      "attachments": {},
      "cell_type": "markdown",
      "metadata": {
        "id": "QAuu7AtZeHHo"
      },
      "source": [
        "**NOMOR 7**\n",
        "\n",
        "Buatlah sebuah kondisi untuk mengecek apakah variabel-variabel dibawah ini termasuk salah satu nilai dari variabel lain atau tidak\n",
        "\n",
        "* *`pendidikan` = `s1`* terhadap *`daftar_pendidikan` = ['s1', 's2', 's3']*\n",
        "* *`nama` = `budi`* terhadap *`nama_lengkap` = `budi kurniawan`*\n",
        "\n",
        "Jika True maka tulis/cetak `merupakan bagian`\n",
        "\n",
        "Jika False maka tulis/cetak `bukan merupakan bagian`"
      ]
    },
    {
      "cell_type": "code",
      "execution_count": 12,
      "metadata": {
        "colab": {
          "base_uri": "https://localhost:8080/"
        },
        "id": "TUMs-zJU0YaU",
        "outputId": "4c1fe4bd-6ab6-43ee-c323-73f02ba42ddb"
      },
      "outputs": [
        {
          "name": "stdout",
          "output_type": "stream",
          "text": [
            "keduanya merupakan bagian\n"
          ]
        }
      ],
      "source": [
        "pendidikan = 's1'\n",
        "daftar_pendidikan = ['s1','s2','s3']\n",
        "nama = \"budi\"\n",
        "nama_lengkap = \"budi kurniawan\"\n",
        "\n",
        "if pendidikan in daftar_pendidikan and nama in nama_lengkap:#'in' mengecek nilai pada variabel lain 'and' menambah kondisi yang harus terpenuhi\n",
        "  print(\"keduanya merupakan bagian\")\n",
        "else:\n",
        "  print(\"keduanya bukan merupakan bagian\")\n"
      ]
    },
    {
      "attachments": {},
      "cell_type": "markdown",
      "metadata": {
        "id": "xKB0rquQgyU1"
      },
      "source": [
        "**NOMOR 8 (NESTED IF)**\n",
        "\n",
        "Buatlah sebuah kondisi untuk mengecek hubungan dua variabel dibawah ini :\n",
        "\n",
        "* `a` = 100\n",
        "* `b` = 100\n",
        "\n",
        "Jika `a < b` maka tulis/cetak `a lebih kecil dari b`\n",
        "\n",
        "Jika `a > b` maka tulis/cetak `a lebih besar dari b`\n",
        "\n",
        "Selain kondisi diatas, maka tulis/cetak `a sama dengan b`"
      ]
    },
    {
      "cell_type": "code",
      "execution_count": 13,
      "metadata": {
        "colab": {
          "base_uri": "https://localhost:8080/"
        },
        "id": "MBmBRWY_2Jxl",
        "outputId": "18860be0-7021-4aea-a8c3-ea0c4fc3a7f4"
      },
      "outputs": [
        {
          "name": "stdout",
          "output_type": "stream",
          "text": [
            "a sama dengan b\n"
          ]
        }
      ],
      "source": [
        "a = 100\n",
        "b = 100\n",
        "\n",
        "if a < b: #kondisi pertama\n",
        "  print(\"a lebih kecil dari b\") # jika true dieksekusi\n",
        "elif a > b:                     #nestedif kondisi kedua\n",
        "  print(\"a lebih besar dari b\") #jika kondisi kedua true dieksekusi\n",
        "else:\n",
        "  print(\"a sama dengan b\")      #jika kodisi false dieksekusi"
      ]
    },
    {
      "attachments": {},
      "cell_type": "markdown",
      "metadata": {
        "id": "6-2lRRq0e0v2"
      },
      "source": [
        "**NOMOR 9 (NESTED IF)**\n",
        "\n",
        "Buatlah sebuah kondisi untuk memilih menu makanan dengan syarat :\n",
        "\n",
        "* Pilih `nasi goreng` jika uang yang dimiliki lebih dari sama dengan Rp 15.000,-\n",
        "* Pilih `ketoprak` jika uang yang dimiliki lebih dari sama dengan Rp 10.000 dan kurang dari Rp 15.000,-\n",
        "* Pilih `batagor` jika uang yang dimiliki lebih dari sama dengan Rp 5.000 dan kurang Rp 10.000,-\n",
        "* Pilih `es teh manis` jika uang yang dimiliki kurang dari Rp 5000"
      ]
    },
    {
      "cell_type": "code",
      "execution_count": 23,
      "metadata": {
        "colab": {
          "base_uri": "https://localhost:8080/"
        },
        "id": "4tcwHa9S3F_f",
        "outputId": "4ba7d695-f32f-4165-a072-586d3df0d7c4"
      },
      "outputs": [
        {
          "name": "stdout",
          "output_type": "stream",
          "text": [
            "uang yang kamu punya : -6\n",
            "pilih  es teh manis\n"
          ]
        }
      ],
      "source": [
        "uang = int(input(\"uang yang kamu punya : \")) #variabel uang berdasarkan input user dengan tipe data int\n",
        "\n",
        "if uang >= 15000:\n",
        "  print(\"pilih nasi goreng\")\n",
        "elif uang >= 10000 and  uang < 15000:\n",
        "  print(\"pilih ketoprak\")\n",
        "elif uang >= 5000 and uang < 10000:\n",
        "  print(\"pilih batagor\")\n",
        "else:\n",
        "  print(\"pilih  es teh manis\")"
      ]
    },
    {
      "attachments": {},
      "cell_type": "markdown",
      "metadata": {
        "id": "0LRQikHLhzxx"
      },
      "source": [
        "**NOMOR 10**\n",
        "\n",
        "Buatlah sebuah perulangan untuk mencetak/menulis kata `hello` sebanyak `5` kali."
      ]
    },
    {
      "cell_type": "code",
      "execution_count": 31,
      "metadata": {
        "colab": {
          "base_uri": "https://localhost:8080/"
        },
        "id": "71crrdJN7OzV",
        "outputId": "cd6af8dc-35b1-400e-fa0f-beff479c45aa"
      },
      "outputs": [
        {
          "name": "stdout",
          "output_type": "stream",
          "text": [
            "hello\n",
            "hello\n",
            "hello\n",
            "hello\n",
            "hello\n"
          ]
        }
      ],
      "source": [
        "for i in range(5): #kondisi loop indeks dari 0 dalam range '5' indek ke 5 tidak ticetak\n",
        "  print(\"hello\")"
      ]
    },
    {
      "attachments": {},
      "cell_type": "markdown",
      "metadata": {
        "id": "q1u5JgNcjDER"
      },
      "source": [
        "**NOMOR 11**\n",
        "\n",
        "Buatlah sebuah perulangan untuk menampilkan angka dari `0` - `5`\n",
        "\n",
        "*Hasil : 0 1 2 3 4 5*"
      ]
    },
    {
      "cell_type": "code",
      "execution_count": 44,
      "metadata": {
        "colab": {
          "base_uri": "https://localhost:8080/"
        },
        "id": "N_S1FbRe8Dy2",
        "outputId": "86fb53cb-0c2c-47e0-adc2-be38dbb3f276"
      },
      "outputs": [
        {
          "name": "stdout",
          "output_type": "stream",
          "text": [
            "0 1 2 3 4 5 "
          ]
        }
      ],
      "source": [
        "for i in range(0,6):\n",
        "  print(i,end=' ')"
      ]
    },
    {
      "cell_type": "code",
      "execution_count": 45,
      "metadata": {
        "colab": {
          "base_uri": "https://localhost:8080/"
        },
        "id": "D-4fbakU-qGF",
        "outputId": "33e58951-b259-491c-f7bd-add17c490775"
      },
      "outputs": [
        {
          "name": "stdout",
          "output_type": "stream",
          "text": [
            "5 4 3 2 1 0 "
          ]
        }
      ],
      "source": [
        "#mengurutkan besar ke kecil\n",
        "for i in range(5,-1,-1):\n",
        "  print(i,end=' ')"
      ]
    },
    {
      "cell_type": "code",
      "execution_count": 48,
      "metadata": {
        "colab": {
          "base_uri": "https://localhost:8080/"
        },
        "id": "sKm7OLQ-_I1p",
        "outputId": "83a75961-f2d3-4711-ba61-06a79b721118"
      },
      "outputs": [
        {
          "name": "stdout",
          "output_type": "stream",
          "text": [
            "5 4 3 2 1 0 "
          ]
        }
      ],
      "source": [
        "#mengurtukan besar ke kecil menggunakan reserved\n",
        "for i in reversed(range(0,6,1)):\n",
        "  print(i,end=' ')"
      ]
    },
    {
      "attachments": {},
      "cell_type": "markdown",
      "metadata": {
        "id": "1D-AQ-pij46e"
      },
      "source": [
        "**NOMOR 12**\n",
        "\n",
        "Buatlah sebuah perulangan untuk menampilkan angka dari `3` - `5`\n",
        "\n",
        "*Hasil : 3 4 5*"
      ]
    },
    {
      "cell_type": "code",
      "execution_count": 33,
      "metadata": {
        "colab": {
          "base_uri": "https://localhost:8080/"
        },
        "id": "ApmkXWQ68Qpq",
        "outputId": "74e85ffa-6605-44ef-9658-fcdd5c5e2fef"
      },
      "outputs": [
        {
          "name": "stdout",
          "output_type": "stream",
          "text": [
            "3\n",
            "4\n",
            "5\n"
          ]
        }
      ],
      "source": [
        "for i in range(3,6):\n",
        "  print(i)"
      ]
    },
    {
      "attachments": {},
      "cell_type": "markdown",
      "metadata": {
        "id": "uSEVraIukViN"
      },
      "source": [
        "**NOMOR 13**\n",
        "\n",
        "Buatlah sebuah perulangan untuk menampilkan angka dari `1` - `10` dengan jarak angka adalah `3`\n",
        "\n",
        "*Hasil : 1 4 7 10*"
      ]
    },
    {
      "cell_type": "code",
      "execution_count": 35,
      "metadata": {
        "colab": {
          "base_uri": "https://localhost:8080/"
        },
        "id": "YjuU09rV8dqQ",
        "outputId": "b5e94df4-997f-4307-b267-2d4c785d855c"
      },
      "outputs": [
        {
          "name": "stdout",
          "output_type": "stream",
          "text": [
            "1\n",
            "4\n",
            "7\n",
            "10\n"
          ]
        }
      ],
      "source": [
        "for i in range(1,11,3):\n",
        "  print(i)"
      ]
    },
    {
      "attachments": {},
      "cell_type": "markdown",
      "metadata": {
        "id": "DtDfto_5k75u"
      },
      "source": [
        "**NOMOR 14**\n",
        "\n",
        "Buatlah sebuah perulangan untuk menampilkan angka dari `1` - `10` dan berhenti dengan kondisi jika angka tersebut adalah `8`\n",
        "\n",
        "*Hasil : 1 2 3 4 5 6 7 8*"
      ]
    },
    {
      "cell_type": "code",
      "execution_count": 58,
      "metadata": {
        "colab": {
          "base_uri": "https://localhost:8080/"
        },
        "id": "c0Ipx67i8tZo",
        "outputId": "b972c0fa-1dd6-4ef6-b5ee-44fd5681a33b"
      },
      "outputs": [
        {
          "name": "stdout",
          "output_type": "stream",
          "text": [
            "1 2 3 4 5 6 7 8 "
          ]
        }
      ],
      "source": [
        "for i in range(1,11):\n",
        "  print(i,end=' ')\n",
        "  if i == 8:\n",
        "    break"
      ]
    },
    {
      "attachments": {},
      "cell_type": "markdown",
      "metadata": {
        "id": "xHUh5DxDmkjm"
      },
      "source": [
        "**NOMOR 15**\n",
        "\n",
        "Buatlah sebuah perulangan untuk menampilkan angka genap dari `1` - `10` dan angka tersebut kurang dari sama dengan 6\n",
        "\n",
        "*Hasil : 2 4 6*"
      ]
    },
    {
      "cell_type": "code",
      "execution_count": 59,
      "metadata": {
        "colab": {
          "base_uri": "https://localhost:8080/"
        },
        "id": "pRP5kgMlAKTx",
        "outputId": "170e90b1-385d-4d17-dd4b-814b3c14708a"
      },
      "outputs": [
        {
          "name": "stdout",
          "output_type": "stream",
          "text": [
            "2 4 6 "
          ]
        }
      ],
      "source": [
        "for i in range(1,11,):\n",
        "  if i %2 == 0:\n",
        "    print(i,end=' ')\n",
        "  if i == 6:\n",
        "    break"
      ]
    },
    {
      "attachments": {},
      "cell_type": "markdown",
      "metadata": {
        "id": "eHuyyy7cmFTc"
      },
      "source": [
        "**NOMOR 16**\n",
        "\n",
        "Buatlah sebuah perulangan untuk menampilkan isi dari variabel list dibawah ini : \n",
        "\n",
        "* `daftar_nama` = `['anwar', 'budi', 'cecep', 'deny']`"
      ]
    },
    {
      "cell_type": "code",
      "execution_count": 61,
      "metadata": {
        "colab": {
          "base_uri": "https://localhost:8080/"
        },
        "id": "b1knvt1sCBNL",
        "outputId": "c40d8793-b9df-4cb1-fe9f-3e4663c960fc"
      },
      "outputs": [
        {
          "name": "stdout",
          "output_type": "stream",
          "text": [
            "anwar budi cecep deny "
          ]
        }
      ],
      "source": [
        "daftar_nama = ['anwar', 'budi', 'cecep', 'deny']\n",
        "for i in daftar_nama:\n",
        "  print(i,end=' ')"
      ]
    }
  ],
  "metadata": {
    "colab": {
      "provenance": []
    },
    "kernelspec": {
      "display_name": "Python 3",
      "name": "python3"
    },
    "language_info": {
      "name": "python"
    }
  },
  "nbformat": 4,
  "nbformat_minor": 0
}
