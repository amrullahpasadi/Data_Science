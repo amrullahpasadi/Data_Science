{
  "cells": [
    {
      "cell_type": "markdown",
      "metadata": {
        "id": "ND-20sWuc0-3"
      },
      "source": [
        "#**Non Graded Chalengge 4**\n",
        "\n",
        "---\n",
        "\n",
        "\n",
        "> Nama : Amrullah Pasadi\n",
        "\n",
        "> Batch : RMT-020\n",
        "\n",
        "\n",
        "---\n",
        "\n",
        "\n",
        "\n"
      ]
    },
    {
      "cell_type": "markdown",
      "source": [
        "##**A. Instruction**\n",
        "\n",
        "1. Buatlah Vector dibawah ini dengan Python:\n",
        " \n",
        "\n",
        "2. Diberikan 3 buah vektor 3 dimensi: $$ A= \\begin{bmatrix} 17 \\ 22 \\ 19 \\end{bmatrix} ,B= \\begin{bmatrix} 10 \\ 20 \\ 11 \\end{bmatrix}, C= \\begin{bmatrix} 5 \\ 12 \\ 9 \\end{bmatrix} $$\n",
        "Hitunglah:\n",
        "\n",
        "- A+B\n",
        "\n",
        "- B-C\n",
        "\n",
        "- A dot C\n",
        "\n",
        "- A x B\n",
        "\n",
        "- norm A\n",
        "\n",
        "- Sudut antara vektor A dan B\n",
        "\n",
        "- Buatlah plot dari vector berikut ini kedalam bidang 2D:\n",
        "\n",
        "\n",
        "$$ U = \\begin{bmatrix} 2 \\ 5 \\end{bmatrix}, V = \\begin{bmatrix} 3 \\ 1 \\end{bmatrix} $$\n",
        "\n"
      ],
      "metadata": {
        "id": "cchJKVqgeEtl"
      }
    },
    {
      "cell_type": "markdown",
      "source": [
        "##**B.Answer**"
      ],
      "metadata": {
        "id": "VnVCZDDZeKdx"
      }
    },
    {
      "cell_type": "markdown",
      "source": [
        "1. Import pustaka yang dibutuhkan"
      ],
      "metadata": {
        "id": "NI8-9bE0RA85"
      }
    },
    {
      "cell_type": "code",
      "source": [
        "import numpy as np\n",
        "import pandas as pd\n",
        "import matplotlib.pyplot as plt\n"
      ],
      "metadata": {
        "id": "r3tyPLVBRIwC"
      },
      "execution_count": 17,
      "outputs": []
    },
    {
      "cell_type": "markdown",
      "source": [
        "**Problem 1**\n",
        "\n",
        "Buatlah Vector dibawah ini dengan Python:\n",
        "\n",
        "Diberikan 3 buah vektor 3 dimensi: $$ A= \\begin{bmatrix} 17 \\ 22 \\ 19 \\end{bmatrix} ,B= \\begin{bmatrix} 10 \\ 20 \\ 11 \\end{bmatrix}, C= \\begin{bmatrix} 5 \\ 12 \\ 9 \\end{bmatrix} $$"
      ],
      "metadata": {
        "id": "spp1HEFnRY3P"
      }
    },
    {
      "cell_type": "markdown",
      "source": [
        "Deskripsikan vektor"
      ],
      "metadata": {
        "id": "j75LCcjUJLGC"
      }
    },
    {
      "cell_type": "code",
      "source": [
        "A = [17,22,19]\n",
        "vector_A = np.array(A)\n",
        "B = [10,20,11]\n",
        "vector_B = np.array(B)\n",
        "C = [5,12,9]\n",
        "vector_C = np.array(C)\n",
        "\n",
        "print(vector_A,'\\n',vector_B,'\\n',vector_C)"
      ],
      "metadata": {
        "colab": {
          "base_uri": "https://localhost:8080/"
        },
        "id": "9fC7ub-8RriE",
        "outputId": "d4304188-b724-44a7-c208-8fa1f6ad4fe4"
      },
      "execution_count": 10,
      "outputs": [
        {
          "output_type": "stream",
          "name": "stdout",
          "text": [
            "[17 22 19] \n",
            " [10 20 11] \n",
            " [ 5 12  9]\n"
          ]
        }
      ]
    },
    {
      "cell_type": "code",
      "source": [
        "penjumlahan = vector_A + vector_B #menjumlahkan vector A dan B\n",
        "print(penjumlahan)"
      ],
      "metadata": {
        "id": "KN335PMvJu99"
      },
      "execution_count": null,
      "outputs": []
    },
    {
      "cell_type": "code",
      "source": [
        "pengurangan = vector_B - vector_C #pengurangan vector B dan C\n",
        "print(pengurangan)"
      ],
      "metadata": {
        "id": "irQJD2hVJ9qy"
      },
      "execution_count": null,
      "outputs": []
    },
    {
      "cell_type": "code",
      "source": [
        "dotproduct= vector_A @ vector_C #pekalian dotproduct vektor A dan C\n",
        "print(dotproduct)"
      ],
      "metadata": {
        "id": "hYhn7ztrKK1o"
      },
      "execution_count": null,
      "outputs": []
    },
    {
      "cell_type": "code",
      "source": [
        "perkalian = vector_A * vector_B #perkalian waise vektor A dan B\n",
        "print(perkalian)"
      ],
      "metadata": {
        "id": "6H4alioWKYPX"
      },
      "execution_count": null,
      "outputs": []
    },
    {
      "cell_type": "code",
      "source": [
        "cos_theta = (A @ B) / (np.linalg.norm(A) * np.linalg.norm(B)) # mencari Qos Theta atau tingkat kemiripan vector A dan B\n",
        "print (cos_theta)"
      ],
      "metadata": {
        "colab": {
          "base_uri": "https://localhost:8080/"
        },
        "id": "iWdMFpjLfd0J",
        "outputId": "0f728661-c186-4b6b-b92e-0cb80d238fe3"
      },
      "execution_count": 5,
      "outputs": [
        {
          "output_type": "stream",
          "name": "stdout",
          "text": [
            "0.9759590023331435\n"
          ]
        }
      ]
    },
    {
      "cell_type": "code",
      "source": [
        "radian = np.arccos(cos_theta) #convert Qos theta ke Radian dari 0 ke 2pi\n",
        "degree = np.degrees(radian) #convert Radian ke Degrees dari 0 - 360, sudut antara vector A dan B\n",
        "\n",
        "print(radian)\n",
        "print(degree)"
      ],
      "metadata": {
        "id": "qyv5dd1pH8gA"
      },
      "execution_count": 8,
      "outputs": []
    },
    {
      "cell_type": "markdown",
      "source": [
        "2. Buatlah plot dari vector berikut ini kedalam bidang 2D:\n",
        "\n",
        "\n",
        "$$ U = \\begin{bmatrix} 2 \\ 5 \\end{bmatrix}, V = \\begin{bmatrix} 3 \\ 1 \\end{bmatrix} $$"
      ],
      "metadata": {
        "id": "AIy0HT_dL886"
      }
    },
    {
      "cell_type": "code",
      "source": [
        "U = [2,5]\n",
        "V = [3,1]\n",
        "\n",
        "vectU=np.array(U) #mendefenisikan vector U\n",
        "vectV=np.array(V) #mendefenisilan vector V\n",
        "\n",
        "print(vectU,type(vectU))\n",
        "print(vectV,type(vectV))"
      ],
      "metadata": {
        "colab": {
          "base_uri": "https://localhost:8080/"
        },
        "id": "Dbo87v9fOK3t",
        "outputId": "9665e1ba-426e-4d57-aad8-a5e187c55f96"
      },
      "execution_count": 30,
      "outputs": [
        {
          "output_type": "stream",
          "name": "stdout",
          "text": [
            "[2 5] <class 'numpy.ndarray'>\n",
            "[3 1] <class 'numpy.ndarray'>\n"
          ]
        }
      ]
    },
    {
      "cell_type": "code",
      "source": [
        "plt.arrow(0,0,vectU[0],vectU[1],color='b', head_width=0.1) # membuat arrow dengan fromat (x,y,dx,dy, warna = Blue, besar kepala arrow = 0.1)\n",
        "plt.arrow(0,0,vectV[0],vectV[1],color='r', head_width=0.1) # membuat arrow dengan fromat (x,y,dx,dy, warna = Red, besar kepala arrow = 0.1)\n",
        "plt.axis([0,7,0,7]) #membuat ukuran sumbu x dan y dengan format (xmin,xmax,ymin,ymax)\n",
        "plt.grid()\n",
        "plt.xlabel('Sumbu x', fontsize = 15) #membuat label pada sumbu X dan Y\n",
        "plt.ylabel('Sumbu Y', fontsize = 15)\n",
        "plt.show()\n"
      ],
      "metadata": {
        "colab": {
          "base_uri": "https://localhost:8080/",
          "height": 461
        },
        "id": "e097JKrXQahN",
        "outputId": "367167d4-af84-47f8-f46b-da91e6cd6805"
      },
      "execution_count": 56,
      "outputs": [
        {
          "output_type": "display_data",
          "data": {
            "text/plain": [
              "<Figure size 640x480 with 1 Axes>"
            ],
            "image/png": "[encoded data removed]"
          },
          "metadata": {}
        }
      ]
    }
  ],
  "metadata": {
    "language_info": {
      "name": "python"
    },
    "orig_nbformat": 4,
    "colab": {
      "provenance": []
    },
    "kernelspec": {
      "name": "python3",
      "display_name": "Python 3"
    }
  },
  "nbformat": 4,
  "nbformat_minor": 0
}