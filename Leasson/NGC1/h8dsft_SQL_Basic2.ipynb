{
  "nbformat": 4,
  "nbformat_minor": 0,
  "metadata": {
    "colab": {
      "provenance": []
    },
    "kernelspec": {
      "name": "python3",
      "display_name": "Python 3"
    },
    "language_info": {
      "name": "python"
    }
  },
  "cells": [
    {
      "cell_type": "markdown",
      "source": [
        "# **Non Graded Challenge 1 - SQL (Basic)**\n"
      ],
      "metadata": {
        "id": "oP_865_-M75B"
      }
    },
    {
      "cell_type": "markdown",
      "source": [
        "\n",
        "\n",
        "---\n",
        "\n",
        "\n",
        "## Assignment Instructions\n",
        "\n",
        "Akses data dari [BigQuery Sandbox](https://console.cloud.google.com/bigquery) dengan ketentuan: \n",
        "- Project_id: `bigquery-public-data`\n",
        "- Dataset: `san_francisco`\n",
        "- Table: `bikeshare_trips` & `bikeshare_stations`\n",
        "\n",
        "Untuk mempermudah pengerjaan, berikut kolom-kolom yang bisa difokuskan dari masing-masing tabel:\n",
        "- Table `bikeshare_trips` : `trip_id`, `start_date`, `subscriber_type`, `start_station_name`, dan `start_station_id`\n",
        "- Table `bikeshare_stations` : `station_id`, `name`, dan `landmark` \n",
        "\n",
        "Pada kasus ini, kamu diminta untuk membandingkan tingkat peminjaman sepeda dari `subcriber_type`: `Subscriber` di kota `Redwood City` untuk periode Q1 dan Q2 tahun 2016.\n",
        "\n",
        "Hints:\n",
        "- Lakukan join pada kedua tabel.\n",
        "- Terapkan kondisional pada `start_date`, `subcriber_type`, dan `landmark`.\n",
        "- Hitung banyak kemunculan entry data untuk masing-masing periode (1 Query untuk 1 periode).\n",
        "\n",
        "\n",
        "---\n",
        "\n"
      ],
      "metadata": {
        "id": "rN7hSl7CNDb3"
      }
    },
    {
      "cell_type": "markdown",
      "source": [
        "##**ANSWER**\n",
        "\n"
      ],
      "metadata": {
        "id": "BPQLJJWaOhjN"
      }
    },
    {
      "cell_type": "markdown",
      "source": [
        "Melakukan SELECT :\n",
        "- Table `bikeshare_trips` : `trip_id`, `start_date`, `subscriber_type`, `start_station_name`, dan `start_station_id`\n",
        "- Table `bikeshare_stations` : `station_id`, `name`, dan `landmark` "
      ],
      "metadata": {
        "id": "yAoGNoSxQdvW"
      }
    },
    {
      "cell_type": "code",
      "source": [
        "SELECT  trip.trip_id,trip.start_date,\n",
        "        trip.subscriber_type,\n",
        "        trip.start_station_name,\n",
        "        trip.start_station_id,\n",
        "        station.station_id,\n",
        "        station.name,\n",
        "        station.landmark"
      ],
      "metadata": {
        "id": "SfjcYHDnR3Tq"
      },
      "execution_count": null,
      "outputs": []
    },
    {
      "cell_type": "markdown",
      "source": [
        "JOIN Tabel bikeshare_trips & bikeshare_stations"
      ],
      "metadata": {
        "id": "QUUg_Y5uSI7d"
      }
    },
    {
      "cell_type": "code",
      "source": [
        "FROM \n",
        "  bigquery-public-data.san_francisco.bikeshare_trips AS trip\n",
        "JOIN\n",
        "  bigquery-public-data.san_francisco.bikeshare_stations AS station\n",
        "ON \n",
        "  trip.start_station_id = station.station_id"
      ],
      "metadata": {
        "id": "11zkXidVSCqQ"
      },
      "execution_count": null,
      "outputs": []
    },
    {
      "cell_type": "markdown",
      "source": [
        "kondisional pada start_date, subcriber_type, dan landmark"
      ],
      "metadata": {
        "id": "lLuuP2uLStKK"
      }
    },
    {
      "cell_type": "code",
      "source": [
        "WHERE\n",
        "  trip.subscriber_type ='Subscriber' \n",
        "  AND \n",
        "  station.landmark=\"Redwood City\" \n",
        "  AND trip.start_date BETWEEN '2016-01-01' AND '2016-12-31';"
      ],
      "metadata": {
        "id": "VISgu-49Syfo"
      },
      "execution_count": null,
      "outputs": []
    },
    {
      "cell_type": "markdown",
      "source": [
        "Membandingkan tingkat peminjaman sepeda dari `subcriber_type`: `Subscriber` di kota `Redwood City` untuk periode Q1 dan Q2 tahun 2016"
      ],
      "metadata": {
        "id": "xPOKLy1rRJlQ"
      }
    },
    {
      "cell_type": "code",
      "source": [
        "SELECT  trip.trip_id,\n",
        "        trip.start_date,\n",
        "        trip.subscriber_type,\n",
        "        trip.start_station_name,\n",
        "        trip.start_station_id,\n",
        "        station.station_id,\n",
        "        station.name,\n",
        "        station.landmark\n",
        "FROM \n",
        "  bigquery-public-data.san_francisco.bikeshare_trips AS trip\n",
        "JOIN\n",
        "  bigquery-public-data.san_francisco.bikeshare_stations AS station\n",
        "ON \n",
        "  trip.start_station_id = station.station_id\n",
        "WHERE\n",
        "  trip.subscriber_type ='Subscriber' \n",
        "  AND \n",
        "  station.landmark=\"Redwood City\" \n",
        "  AND trip.start_date BETWEEN '2016-01-01' AND '2016-12-31';"
      ],
      "metadata": {
        "id": "SZQgxqkcSASQ"
      },
      "execution_count": null,
      "outputs": []
    },
    {
      "cell_type": "markdown",
      "source": [
        "Menghitung banyak kemunculan entry data untuk masing-masing periode (1 Query untuk 1 periode)."
      ],
      "metadata": {
        "id": "fiyzx_XwTCb3"
      }
    },
    {
      "cell_type": "markdown",
      "source": [
        "periode 2013\n",
        "\n",
        "*note periode bisa dirubah sesuai data yang diinginkan"
      ],
      "metadata": {
        "id": "LqEx8npSTzu-"
      }
    },
    {
      "cell_type": "code",
      "source": [
        "SELECT COUNT(trip.trip_id)\n",
        "FROM \n",
        "  bigquery-public-data.san_francisco.bikeshare_trips AS trip\n",
        "JOIN\n",
        "  bigquery-public-data.san_francisco.bikeshare_stations AS station\n",
        "ON \n",
        "  trip.start_station_id = station.station_id\n",
        "WHERE\n",
        "       #Menentukan periode\n",
        "  trip.start_date BETWEEN '2013-01-01' AND '2013-12-31';"
      ],
      "metadata": {
        "id": "d3bqTSTvTJ4e"
      },
      "execution_count": null,
      "outputs": []
    }
  ]
}