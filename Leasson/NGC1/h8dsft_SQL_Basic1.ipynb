{
  "nbformat": 4,
  "nbformat_minor": 0,
  "metadata": {
    "colab": {
      "provenance": []
    },
    "kernelspec": {
      "name": "python3",
      "display_name": "Python 3"
    },
    "language_info": {
      "name": "python"
    }
  },
  "cells": [
    {
      "cell_type": "markdown",
      "source": [
        "# **Non Graded Challenge 1 - SQL (Basic)**\n",
        "\n",
        "Non-Graded Assignment ini dibuat guna mengevaluasi pembelajaran pada Hacktiv8 Data Science Fulltime Program khususnya pada konsep SQL\n",
        "\n",
        "---\n",
        "\n",
        "Langkah - langkah sebelum mengerjakan :\n",
        "\n",
        "- Gunakan dataset dari URL [ini](https://github.com/ardhiraka/FSDS_Guidelines/blob/master/p0/w2/assignments/NG9%20-%20SQL.md#non-graded-challenge-9).\n",
        "- Buatlah table teachers dan courses. \n",
        "- Masukkan semua data pada masing-masing table.\n",
        "- Table teachers akan memiliki 15 data.\n",
        "- Table courses akan memiliki 20 data.\n",
        "  \n",
        "Soal : Carilah dosen yang memiliki gaji tertinggi per masing-masing mata kuliah. Tampilkan semua atribut dosen dan semua atribut mata kuliahnya. Urutkan hasilnya berdasarkan nama mata kuliahnya secara ascending (A-Z).\n",
        "\n",
        "\n",
        "---"
      ],
      "metadata": {
        "id": "rwBiI_HPdmOu"
      }
    },
    {
      "cell_type": "markdown",
      "source": [
        "\n",
        "#**ANSWER**\n",
        "\n",
        "**A. Creat Table**"
      ],
      "metadata": {
        "id": "xfEMtpzMlS5I"
      }
    },
    {
      "cell_type": "markdown",
      "source": [
        "**A1.Creat table Teacher**"
      ],
      "metadata": {
        "id": "tsE9wxqAl75M"
      }
    },
    {
      "cell_type": "code",
      "source": [
        "CREATE TABLE teachers (\n",
        "    id INT NOT NULL PRIMARY KEY AUTO_INCREMENT,\n",
        "    first_name varchar(25) NOT NULL,\n",
        "    last_name varchar(50),\n",
        "    school varchar(50) NOT NULL,\n",
        "    hire_date date,\n",
        "    salary numeric\n",
        "    );"
      ],
      "metadata": {
        "id": "MEcGdfJklV1W"
      },
      "execution_count": null,
      "outputs": []
    },
    {
      "cell_type": "markdown",
      "source": [
        "**A2 Creat table Courses**"
      ],
      "metadata": {
        "id": "VwJnpdnumBg3"
      }
    },
    {
      "cell_type": "code",
      "source": [
        "CREATE TABLE courses (\n",
        "    id INT NOT NULL PRIMARY KEY AUTO_INCREMENT,\n",
        "    name varchar(20),\n",
        "    teachers_id INT,\n",
        "    total_students INT\n",
        "    );"
      ],
      "metadata": {
        "id": "nDpVFU9UmFqR"
      },
      "execution_count": null,
      "outputs": []
    },
    {
      "cell_type": "markdown",
      "source": [
        "**B. Insert Data**\n",
        "\n",
        "**B1. insert to teacher table with param id**"
      ],
      "metadata": {
        "id": "bsmFUmLumMUd"
      }
    },
    {
      "cell_type": "code",
      "source": [
        "INSERT INTO teachers (id,first_name, last_name, school, hire_date, salary)\n",
        "    VALUES (1,'Janet', 'Smith', 'MIT', '2011-10-30', 36200),\n",
        "           (2,'Lee', 'Reynolds', 'MIT', '1993-05-22', 65000),\n",
        "           (3,'Samuel', 'Cole', 'Cambridge University', '2005-08-01', 43500),\n",
        "           (4,'Samantha', 'Bush', 'Cambridge University', '2011-10-30', 36200),\n",
        "           (5,'Betty', 'Diaz', 'Cambridge University', '2005-08-30', 43500),\n",
        "           (6,'Kathleen', 'Roush', 'MIT', '2010-10-22', 38500),\n",
        "           (7,'James', 'Diaz', 'Harvard University', '2003-07-18', 61000),\n",
        "           (8,'Zack', 'Smith', 'Harvard University', '2000-12-29', 55500),\n",
        "           (9,'Luis', 'Gonzales', 'Standford University', '2002-12-01', 50000),\n",
        "           (10,'Frank', 'Abbers', 'Standford University', '1999-01-30', 66000);"
      ],
      "metadata": {
        "id": "hARcn6B7nVCm"
      },
      "execution_count": null,
      "outputs": []
    },
    {
      "cell_type": "markdown",
      "source": [
        "**B2. insert to teacher table without param id**"
      ],
      "metadata": {
        "id": "EH9bR0g3ncLG"
      }
    },
    {
      "cell_type": "code",
      "source": [
        "INSERT INTO teachers (first_name, last_name, school, hire_date, salary)\n",
        "    VALUES ('Samuel', 'Abbers', 'Standford University', '2006-01-30', 32000),\n",
        "           ('Jessica', 'Abbers', 'Standford University', '2005-01-30', 33000),\n",
        "           ('Tom', 'Massi', 'Harvard University', '1999-09-09', 39500),\n",
        "           ('Esteban', 'Brown', 'MIT', '2007-01-30', 36000),\n",
        "           ('Carlos', 'Alonso', 'Standford University', '2001-01-30', 44000);"
      ],
      "metadata": {
        "id": "4MsVMu_snlMH"
      },
      "execution_count": null,
      "outputs": []
    },
    {
      "cell_type": "markdown",
      "source": [
        "**B3. insert to table course**"
      ],
      "metadata": {
        "id": "15jigpMWnp7u"
      }
    },
    {
      "cell_type": "code",
      "source": [
        "INSERT INTO courses (name, teachers_id, total_students)\n",
        "    VALUES  ('Calculus', 2, 20),\n",
        "            ('Physics', 2, 10),\n",
        "            ('Calculus', 1, 30),\n",
        "            ('Computer Science', 1, 20),\n",
        "            ('Politic', 13, 15),\n",
        "            ('Algebra', 2, 10),\n",
        "            ('Algebra', 13, 30),\n",
        "            ('Computer Science', 10, 35),\n",
        "            ('Life Science', 11, 20),\n",
        "            ('Chemistry', 9, 22),\n",
        "            ('Chemistry', 8, 16),\n",
        "            ('Calculus', 5, 19),\n",
        "            ('Politic', 4, 17),\n",
        "            ('Biology', 6, 22),\n",
        "            ('Physics', 3, 29),\n",
        "            ('Biology', 8, 28),\n",
        "            ('Calculus', 12, 34),\n",
        "            ('Physics', 13, 34),\n",
        "            ('Biology', 14, 25),\n",
        "            ('Calculus', 15, 20);"
      ],
      "metadata": {
        "id": "3xkK_NAvn8cs"
      },
      "execution_count": null,
      "outputs": []
    },
    {
      "cell_type": "markdown",
      "source": [
        "**C. Cases**\n",
        "- Carilah dosen yang memiliki gaji tertinggi per masing-masing mata kuliah.\n",
        "- Tampilkan semua atribut dosen dan semua atribut mata kuliahnya\n",
        "- Urutkan hasilnya berdasarkan nama mata kuliahnya secara ascending (A-Z)."
      ],
      "metadata": {
        "id": "m3P3cBUcoL-c"
      }
    },
    {
      "cell_type": "markdown",
      "source": [
        "Query mencari dosen yang memiliki gaji tertinggi per masing masing makul"
      ],
      "metadata": {
        "id": "MHtCWn8lqIGM"
      }
    },
    {
      "cell_type": "code",
      "source": [
        "SELECT * \n",
        "FROM teachers\n",
        "JOIN courses ON teachers.id=courses.teachers_id\n",
        "WHERE (courses.name, teachers.salary) IN (\n",
        "  SELECT courses.name, MAX(teachers.salary)\n",
        "  FROM teachers\n",
        "  JOIN courses ON teachers.id=courses.teachers_id\n",
        "  GROUP BY courses.name\n",
        ")\n",
        "ORDER BY courses.name ASC"
      ],
      "metadata": {
        "id": "4MeNQ0I5oqFG"
      },
      "execution_count": null,
      "outputs": []
    },
    {
      "cell_type": "markdown",
      "source": [
        "Query  select semua atribut dosen dan matakuliah"
      ],
      "metadata": {
        "id": "Vqfh4VSno-yt"
      }
    },
    {
      "cell_type": "code",
      "source": [
        "SELECT *\n",
        " FROM Teachers, Course;"
      ],
      "metadata": {
        "id": "B0wCr3_qpK6M"
      },
      "execution_count": null,
      "outputs": []
    },
    {
      "cell_type": "markdown",
      "source": [
        "Query join tabel dosen dan matakuliah"
      ],
      "metadata": {
        "id": "gXJd5lW5pT0-"
      }
    },
    {
      "cell_type": "code",
      "source": [
        "SELECT * \n",
        "FROM teachers join Course ON teachers.id=courses.teachers_id;"
      ],
      "metadata": {
        "id": "l0dChgR8pmyq"
      },
      "execution_count": null,
      "outputs": []
    },
    {
      "cell_type": "markdown",
      "source": [
        "Query mengurutkan hasil berdasarkan nama matakuliah secara ascending"
      ],
      "metadata": {
        "id": "tRfUNIXVpqJF"
      }
    },
    {
      "cell_type": "code",
      "source": [
        "SELECT *\n",
        " FROM teachers join courses on teachers.id = courses.teachers_id\n",
        "ORDER by courses.name ASC;"
      ],
      "metadata": {
        "id": "VuDYMeHHpygZ"
      },
      "execution_count": null,
      "outputs": []
    },
    {
      "cell_type": "markdown",
      "source": [
        "Hasil QUery pada case menghasilkan seperti gambar berikut\n",
        "\n",
        "\n",
        "![ngc1.PNG](data:image/png;base64,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)\n"
      ],
      "metadata": {
        "id": "4L9accegqQar"
      }
    }
  ]
}