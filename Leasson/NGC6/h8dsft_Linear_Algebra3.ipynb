{
  "cells": [
    {
      "attachments": {},
      "cell_type": "markdown",
      "metadata": {
        "id": "ND-20sWuc0-3"
      },
      "source": [
        "#**Non Graded Chalengge 6**\n",
        "---\n",
        "\n",
        "\n",
        "> Nama : Amrullah Pasadi\n",
        "\n",
        "> Batch : RMT-020\n",
        "\n",
        "\n",
        "---\n",
        "\n",
        "\n",
        "\n"
      ]
    },
    {
      "attachments": {},
      "cell_type": "markdown",
      "metadata": {
        "id": "cchJKVqgeEtl"
      },
      "source": [
        "##**A. Instruction**\n",
        "\n",
        "Apakah $\\begin{bmatrix}1 \\\\3\\end{bmatrix}$ adalah eigenvector dari $\\begin{bmatrix}1 & -1\\\\6 &-4 \\end{bmatrix}$? Jika iya, berapakah eigenvalue-nya?"
      ]
    },
    {
      "attachments": {},
      "cell_type": "markdown",
      "metadata": {
        "id": "VnVCZDDZeKdx"
      },
      "source": [
        "##**B.Answer**"
      ]
    },
    {
      "attachments": {},
      "cell_type": "markdown",
      "metadata": {
        "id": "SfniYGeWc5X8"
      },
      "source": [
        "Import library yang dibutuhkan"
      ]
    },
    {
      "cell_type": "code",
      "execution_count": 2,
      "metadata": {
        "id": "r3tyPLVBRIwC"
      },
      "outputs": [],
      "source": [
        "import numpy as np\n",
        "import matplotlib.pyplot as plt"
      ]
    },
    {
      "attachments": {},
      "cell_type": "markdown",
      "metadata": {
        "id": "NI8-9bE0RA85"
      },
      "source": [
        "**Problem 1**  \n",
        "Apakah $\\begin{bmatrix}1 \\\\3\\end{bmatrix}$ adalah eigenvector dari $\\begin{bmatrix}1 & -1\\\\6 &-4 \\end{bmatrix}$? Jika iya, berapakah eigenvalue-nya?"
      ]
    },
    {
      "attachments": {},
      "cell_type": "markdown",
      "metadata": {
        "id": "j75LCcjUJLGC"
      },
      "source": [
        "Deskripsikan vektor"
      ]
    },
    {
      "cell_type": "code",
      "execution_count": 4,
      "metadata": {
        "colab": {
          "base_uri": "https://localhost:8080/"
        },
        "id": "9fC7ub-8RriE",
        "outputId": "18b85bf9-c56e-4c9c-81d8-1e91038ecdea"
      },
      "outputs": [
        {
          "name": "stdout",
          "output_type": "stream",
          "text": [
            "[1 3] \n",
            "\n",
            "[[ 1 -1]\n",
            " [ 6 -4]]\n"
          ]
        }
      ],
      "source": [
        "A =np.array([1,3])\n",
        "T=np.array([[1,-1],[6,-4]])\n",
        "\n",
        "print(A,'\\n')\n",
        "print(T)"
      ]
    },
    {
      "cell_type": "code",
      "execution_count": 5,
      "metadata": {
        "colab": {
          "base_uri": "https://localhost:8080/"
        },
        "id": "2_4lbm9BIlnU",
        "outputId": "dd4a633b-8068-4540-9dcb-f3f02baedb68"
      },
      "outputs": [
        {
          "data": {
            "text/plain": [
              "array([-2, -6])"
            ]
          },
          "execution_count": 5,
          "metadata": {},
          "output_type": "execute_result"
        }
      ],
      "source": [
        "A_2 = T@A #Melakukan Dotproduct terhadap matrix\n",
        "A_2"
      ]
    },
    {
      "attachments": {},
      "cell_type": "markdown",
      "metadata": {
        "id": "bcLPvWflfgOb"
      },
      "source": [
        "untuk mendapatkan lamda maka lamda -2 = lamda dan -6 = 3/-lamda jadi lamdanya adalah -2"
      ]
    },
    {
      "cell_type": "code",
      "execution_count": 8,
      "metadata": {
        "id": "VuPZ--lvLerY"
      },
      "outputs": [],
      "source": [
        "def plot_gbr(vect,origin=[0,0],**option):\n",
        "  return plt.arrow(origin[0],origin[1],vect[0],vect[1],head_width=0.1,**option)"
      ]
    },
    {
      "cell_type": "code",
      "execution_count": 7,
      "metadata": {
        "colab": {
          "base_uri": "https://localhost:8080/",
          "height": 430
        },
        "id": "USJ2yp2FMYS_",
        "outputId": "d43f1e58-7fcc-48f4-ba0c-b240817c491f"
      },
      "outputs": [
        {
          "data": {
            "image/png": "[encoded data removed]",
            "text/plain": [
              "<Figure size 640x480 with 1 Axes>"
            ]
          },
          "metadata": {},
          "output_type": "display_data"
        }
      ],
      "source": [
        "plot_gbr(A,color='b')\n",
        "plot_gbr(A_2,color='r')\n",
        "plt.grid()"
      ]
    },
    {
      "attachments": {},
      "cell_type": "markdown",
      "metadata": {
        "id": "VW9vsumpgD-B"
      },
      "source": [
        "bisa disimpulkan bahwa $\\begin{bmatrix}1 \\\\3\\end{bmatrix}$ adalah eigenvector dari $\\begin{bmatrix}1 & -1\\\\6 &-4 \\end{bmatrix}$ dengan nilai lamda = -2 artinya arah berlawanan karna dibawah -1"
      ]
    },
    {
      "cell_type": "code",
      "execution_count": 9,
      "metadata": {
        "colab": {
          "base_uri": "https://localhost:8080/"
        },
        "id": "mhUw0RLfOIVN",
        "outputId": "9740e97f-0877-4332-be27-0489e7a8199c"
      },
      "outputs": [
        {
          "name": "stdout",
          "output_type": "stream",
          "text": [
            "[-1. -2.]\n",
            "[[0.4472136  0.31622777]\n",
            " [0.89442719 0.9486833 ]]\n"
          ]
        }
      ],
      "source": [
        "value,vektor = np.linalg.eig(T)\n",
        "print(value) #eigen value\n",
        "print(vektor) #eigen vector"
      ]
    },
    {
      "attachments": {},
      "cell_type": "markdown",
      "metadata": {},
      "source": [
        "$\\begin{bmatrix}1 \\\\3\\end{bmatrix}$ adalah eigenvector dari $\\begin{bmatrix}1 & -1\\\\6 &-4 \\end{bmatrix}$\n",
        "- Eigen valuenya adalah $\\begin{bmatrix}-1 \\\\-2\\end{bmatrix}$ \n",
        "- eigen Vektornya $\\begin{bmatrix}0.4472136 & 0.31622777\\\\0.89442719 & 0.9486833 \\end{bmatrix}$\n"
      ]
    },
    {
      "attachments": {},
      "cell_type": "markdown",
      "metadata": {},
      "source": [
        "dan dicoba reconstrucsi ulang eigen vector"
      ]
    },
    {
      "cell_type": "code",
      "execution_count": 13,
      "metadata": {},
      "outputs": [
        {
          "name": "stdout",
          "output_type": "stream",
          "text": [
            "[[ 1. -1.]\n",
            " [ 6. -4.]]\n"
          ]
        }
      ],
      "source": [
        "reconstructed=vektor @ np.diag(value) @ np.linalg.inv(vektor)\n",
        "\n",
        "print(reconstructed)"
      ]
    },
    {
      "attachments": {},
      "cell_type": "markdown",
      "metadata": {},
      "source": [
        "maka hasil rekonstruksi dari eigen vektor menghasilkan matrix $\\begin{bmatrix}1 & -1\\\\6 &-4 \\end{bmatrix}$"
      ]
    }
  ],
  "metadata": {
    "colab": {
      "provenance": []
    },
    "kernelspec": {
      "display_name": "Python 3",
      "name": "python3"
    },
    "language_info": {
      "codemirror_mode": {
        "name": "ipython",
        "version": 3
      },
      "file_extension": ".py",
      "mimetype": "text/x-python",
      "name": "python",
      "nbconvert_exporter": "python",
      "pygments_lexer": "ipython3",
      "version": "3.9.16"
    },
    "orig_nbformat": 4
  },
  "nbformat": 4,
  "nbformat_minor": 0
}
