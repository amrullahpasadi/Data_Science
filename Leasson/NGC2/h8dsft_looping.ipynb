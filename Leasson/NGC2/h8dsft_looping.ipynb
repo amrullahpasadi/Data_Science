{
 "cells": [
  {
   "attachments": {},
   "cell_type": "markdown",
   "metadata": {},
   "source": [
    "# **Non Graded Challenge 2 - Python : Conditions & Loop**\n"
   ]
  },
  {
   "attachments": {},
   "cell_type": "markdown",
   "metadata": {},
   "source": [
    "\n",
    "\n",
    "---\n",
    "\n",
    "\n",
    "## Assignment Instructions\n",
    "- Buatlah sebuah list dengan value berupa:\n",
    "\n",
    "  ```py\n",
    "    numbers = [\n",
    "    951, 402, 984, 651, 360, 69, 408, 319, 601, 485, 980, 507, 725, 547, 544, 615, 83, 165, 141, 501, 263, 617, 865, 575, 219, 390, 984, 592, 236, 105, 942, 941, 386, 462, 47, 418, 907, 344, 236, 375, 823, 566, 597, 978, 328, 615, 953, 345, 399, 162, 758, 219, 918, 237, 412, 566, 826, 248, 866, 950, 626, 949\n",
    "    ]\n",
    "  ```\n",
    "\n",
    "- Loop dan print semua angka genap dari list angka diatas dengan urutan yang sama.\n",
    "\n",
    "- Jangan mencetak angka apapun yang muncul setelah angka `918` berdasarkan posisi angka tersebut pada list diatas.\n",
    "\n",
    "- Tampilkan pesan `Done` setelah looping berakhir.\n",
    "\n",
    "\n",
    "---"
   ]
  },
  {
   "attachments": {},
   "cell_type": "markdown",
   "metadata": {},
   "source": [
    "**Answer**"
   ]
  },
  {
   "cell_type": "code",
   "execution_count": 38,
   "metadata": {},
   "outputs": [
    {
     "name": "stdout",
     "output_type": "stream",
     "text": [
      "402\n",
      "984\n",
      "360\n",
      "408\n",
      "980\n",
      "544\n",
      "390\n",
      "984\n",
      "592\n",
      "236\n",
      "942\n",
      "386\n",
      "462\n",
      "418\n",
      "344\n",
      "236\n",
      "566\n",
      "978\n",
      "328\n",
      "162\n",
      "758\n",
      "918\n",
      "done\n"
     ]
    }
   ],
   "source": [
    "numbers = [951, 402, 984, 651, 360, 69, 408, 319,\n",
    "           601, 485, 980, 507, 725, 547, 544, 615,\n",
    "           83, 165, 141, 501, 263, 617, 865, 575, 219,\n",
    "           390, 984, 592, 236, 105, 942, 941, 386, 462,\n",
    "           47, 418, 907, 344, 236, 375, 823, 566, 597,\n",
    "           978, 328, 615, 953, 345, 399, 162, 758, 219,\n",
    "           918, 237, 412, 566, 826, 248, 866, 950, 626, 949]\n",
    "for i in numbers:\n",
    "        if i % 2 == 0: #for looping angka genap dari list\n",
    "                print(i)\n",
    "        if i == 918: \n",
    "                break #brek for condision angka 918\n",
    "print(\"done\") #done setelah looping berakhir\n",
    "        \n",
    "\n"
   ]
  }
 ],
 "metadata": {
  "kernelspec": {
   "display_name": "Python 3",
   "language": "python",
   "name": "python3"
  },
  "language_info": {
   "codemirror_mode": {
    "name": "ipython",
    "version": 3
   },
   "file_extension": ".py",
   "mimetype": "text/x-python",
   "name": "python",
   "nbconvert_exporter": "python",
   "pygments_lexer": "ipython3",
   "version": "3.9.12"
  },
  "orig_nbformat": 4
 },
 "nbformat": 4,
 "nbformat_minor": 2
}
