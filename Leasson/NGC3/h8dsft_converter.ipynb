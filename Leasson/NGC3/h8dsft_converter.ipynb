{
 "cells": [
  {
   "attachments": {},
   "cell_type": "markdown",
   "metadata": {},
   "source": [
    "# Non Graded Challenge 3 Python : Function\n",
    "_Non-Graded Assignment ini dibuat guna mengevaluasi pembelajaran pada Hacktiv8 Data Science Fulltime Program khususnya pada konsep Function._\n",
    "\n",
    "---\n",
    "\n",
    "## Assignment Instructions\n",
    "\n",
    "- Buatlah sebuah function yang dapat mengkonversi suhu dari kelvin ke celcius, dan celcius ke kelvin.\n",
    "- Buatlah sebuah function yang dapat mengkonversi suhu ke fahrenheit. Tambahkan parameter untuk memastikan bahwa argumen yang dimasukan adalah celcius atau kelvin. Panggil function yang pertama jika diperlukan.\n",
    "- Buatlah sebuah function yang dapat mengkonversi suhu dari fahrenheit. Berikan argumen untuk memastikan bahwa outputnya dalah celcius atau kelvin.\n",
    "- Berikan dokumentasi pada setiap baris kode yang kalian tulis."
   ]
  },
  {
   "attachments": {},
   "cell_type": "markdown",
   "metadata": {},
   "source": [
    "**ANSWER**\n",
    "\n"
   ]
  },
  {
   "attachments": {},
   "cell_type": "markdown",
   "metadata": {},
   "source": [
    "referensi rumus konversi [suhu](https://www.climate4life.info/2018/06/konversi-online-satuan-suhu-celcius-kelvin-fahrenheit-reamul-rankine.html)"
   ]
  },
  {
   "attachments": {},
   "cell_type": "markdown",
   "metadata": {},
   "source": [
    "**Soal 1**\n",
    "\n",
    "**Buatlah sebuah function yang dapat mengkonversi suhu dari kelvin ke celcius, dan celcius ke kelvin**\n",
    "\n",
    "Rumus Konversi kelvin ke celcius :\n",
    "- °C = °K - 273.15\n",
    "- K= ⁰C + 273,15"
   ]
  },
  {
   "cell_type": "code",
   "execution_count": 13,
   "metadata": {},
   "outputs": [
    {
     "name": "stdout",
     "output_type": "stream",
     "text": [
      "Konvert ke :  celcius\n",
      "nila celcius adalah : 4\n",
      "Hasil konversi ke kelvin :  277.15\n"
     ]
    }
   ],
   "source": [
    "suhu=input(\"input konversi ke Celcius / Kelvin : \")\n",
    "print(\"Konvert ke : \", suhu)\n",
    "inputnilai=input(\"input value Farenheit : \")\n",
    "nilai = int(inputnilai)\n",
    "print(\"nila\",suhu,\"adalah :\",nilai)\n",
    "def konversi(suhu,nilai):\n",
    "    if suhu == \"celcius\":\n",
    "        K= nilai + 273.15\n",
    "        print(\"Hasil konversi ke kelvin : \",K)\n",
    "    elif suhu == \"kelvin\":\n",
    "        C= nilai - 273.15\n",
    "        print(\"Hasil konversi ke Celcius : \",C)\n",
    "    else:\n",
    "        print(\"suhu tidak ada didalam list\")\n",
    "        \n",
    "hasil=konversi(suhu,nilai);\n"
   ]
  },
  {
   "attachments": {},
   "cell_type": "markdown",
   "metadata": {},
   "source": [
    "2. Buatlah sebuah function yang dapat mengkonversi suhu ke fahrenheit. Tambahkan parameter untuk memastikan bahwa argumen yang dimasukan adalah celcius atau kelvin. Panggil function yang pertama jika diperlukan. Buatlah sebuah function yang dapat mengkonversi suhu dari fahrenheit. Berikan argumen untuk memastikan bahwa outputnya dalah celcius atau kelvin."
   ]
  },
  {
   "cell_type": "code",
   "execution_count": 12,
   "metadata": {},
   "outputs": [
    {
     "name": "stdout",
     "output_type": "stream",
     "text": [
      "Suhu yang dipilih :  celcius\n",
      "input nilai Farenheit :  90\n",
      "konversi Farenheit ke Celcius :  32.22222222222222\n"
     ]
    }
   ],
   "source": [
    "suhu=input(\"input konversi ke Celcius / Kelvin : \")\n",
    "print(\"Konvert ke : \", suhu)\n",
    "inputnilai=input(\"input value Farenheit : \")\n",
    "nilai = int(inputnilai)\n",
    "print(\"nilai Farenheit : \",nilai)\n",
    "def konversiF(Suhu,nilai):\n",
    "    if suhu == \"celcius\":\n",
    "        F=(nilai -32) * 5/9\n",
    "        print (\"konversi Farenheit ke Celcius : \",F)\n",
    "    elif suhu == \"kelvin\":\n",
    "        F=nilai (nilai + 459.67) * 5/9\n",
    "        print (\"konversi Farenheit ke Kelvin : \",F)\n",
    "    else:\n",
    "        print(\"konversi tidak ada\")\n",
    "hasil=konversiF(suhu,nilai)"
   ]
  }
 ],
 "metadata": {
  "kernelspec": {
   "display_name": "Python 3",
   "language": "python",
   "name": "python3"
  },
  "language_info": {
   "codemirror_mode": {
    "name": "ipython",
    "version": 3
   },
   "file_extension": ".py",
   "mimetype": "text/x-python",
   "name": "python",
   "nbconvert_exporter": "python",
   "pygments_lexer": "ipython3",
   "version": "3.9.16"
  },
  "orig_nbformat": 4
 },
 "nbformat": 4,
 "nbformat_minor": 2
}
