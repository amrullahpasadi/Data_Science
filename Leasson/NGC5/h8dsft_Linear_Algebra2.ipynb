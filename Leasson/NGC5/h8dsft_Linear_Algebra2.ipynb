{
  "cells": [
    {
      "cell_type": "markdown",
      "metadata": {
        "id": "ND-20sWuc0-3"
      },
      "source": [
        "#**Non Graded Chalengge 5**\n",
        "---\n",
        "\n",
        "\n",
        "> Nama : Amrullah Pasadi\n",
        "\n",
        "> Batch : RMT-020\n",
        "\n",
        "\n",
        "---\n",
        "\n",
        "\n",
        "\n"
      ]
    },
    {
      "cell_type": "markdown",
      "source": [
        "##**A. Instruction**\n",
        "\n",
        "- Buatlah Tensor dibawah ini dengan Python:\n",
        "  $$\n",
        "  \\begin{bmatrix}   \\begin{bmatrix}   23 & 50 \\\\   7 & 12 \\\\   \\end{bmatrix}   \\begin{bmatrix}   57 & 67 \\\\   99 & 43   \\end{bmatrix} \\\\    \\begin{bmatrix}   75 & 21 \\\\   57 & 12 \\\\   \\end{bmatrix}   \\begin{bmatrix}   87 & 26 \\\\   18 & 84   \\end{bmatrix}   \\end{bmatrix}\n",
        "  $$\n",
        "- Lakukan perkalian terhadap matrix berikut:\n",
        "\n",
        "  $$\n",
        "  A =\n",
        "  \\begin{bmatrix}\n",
        "  23 & 50 & 19 \\\\\n",
        "  7 & 12 & 109 \\\\\n",
        "  57 & 67 & 98\n",
        "  \\end{bmatrix}\n",
        "  \\begin{bmatrix}\n",
        "  17 \\\\\n",
        "  22 \\\\\n",
        "  19\n",
        "  \\end{bmatrix}\n",
        "  $$\n",
        "\n",
        "- Lakukan Transpose, hitung determinan, dan inverse terhadap matrix dibawah ini:\n",
        "\n",
        "$$ \\begin{bmatrix} 23 & 50 & 19 \\\\ 7 & 12 & 109 \\\\ 57 & 67 & 98 \\end{bmatrix} $$\n"
      ],
      "metadata": {
        "id": "cchJKVqgeEtl"
      }
    },
    {
      "cell_type": "markdown",
      "source": [
        "##**B.Answer**"
      ],
      "metadata": {
        "id": "VnVCZDDZeKdx"
      }
    },
    {
      "cell_type": "markdown",
      "source": [
        "Import library yang dibutuhkan"
      ],
      "metadata": {
        "id": "SfniYGeWc5X8"
      }
    },
    {
      "cell_type": "code",
      "source": [
        "import numpy as np\n",
        "import pandas as pd"
      ],
      "metadata": {
        "id": "r3tyPLVBRIwC"
      },
      "execution_count": 2,
      "outputs": []
    },
    {
      "cell_type": "markdown",
      "source": [
        "**Problem 1**  \n",
        "Buatlah Tensor dibawah ini dengan Python:\n",
        "  $$\n",
        "  \\begin{bmatrix}   \\begin{bmatrix}   23 & 50 \\\\   7 & 12 \\\\   \\end{bmatrix}   \\begin{bmatrix}   57 & 67 \\\\   99 & 43   \\end{bmatrix} \\\\    \\begin{bmatrix}   75 & 21 \\\\   57 & 12 \\\\   \\end{bmatrix}   \\begin{bmatrix}   87 & 26 \\\\   18 & 84   \\end{bmatrix}   \\end{bmatrix}\n",
        "  $$"
      ],
      "metadata": {
        "id": "NI8-9bE0RA85"
      }
    },
    {
      "cell_type": "markdown",
      "source": [
        "Deskripsikan vektor"
      ],
      "metadata": {
        "id": "j75LCcjUJLGC"
      }
    },
    {
      "cell_type": "code",
      "source": [
        "A = [[[23,50],\n",
        "      [7,12],\n",
        "      [75,21],\n",
        "      [57,12]],\n",
        "\n",
        "     [[57,67],\n",
        "      [99,43],\n",
        "      [87,26],\n",
        "      [18,84]]]\n",
        "\n",
        "Ten_A = np.array(A)\n",
        "print(Ten_A,'\\n',type(Ten_A))"
      ],
      "metadata": {
        "colab": {
          "base_uri": "https://localhost:8080/"
        },
        "id": "9fC7ub-8RriE",
        "outputId": "ce42fba4-b544-4dc4-b0a7-5f3a96018f82"
      },
      "execution_count": 14,
      "outputs": [
        {
          "output_type": "stream",
          "name": "stdout",
          "text": [
            "[[[23 50]\n",
            "  [ 7 12]\n",
            "  [75 21]\n",
            "  [57 12]]\n",
            "\n",
            " [[57 67]\n",
            "  [99 43]\n",
            "  [87 26]\n",
            "  [18 84]]] \n",
            " <class 'numpy.ndarray'>\n"
          ]
        }
      ]
    },
    {
      "cell_type": "markdown",
      "source": [
        "**Problem 2**\n",
        "\n",
        "Lakukan perkalian terhadap matrix berikut:\n",
        "\n",
        "  $$\n",
        "  A =\n",
        "  \\begin{bmatrix}\n",
        "  23 & 50 & 19 \\\\\n",
        "  7 & 12 & 109 \\\\\n",
        "  57 & 67 & 98\n",
        "  \\end{bmatrix}\n",
        "  B=\n",
        "  \\begin{bmatrix}\n",
        "  17 \\\\\n",
        "  22 \\\\\n",
        "  19\n",
        "  \\end{bmatrix}\n",
        "  $$"
      ],
      "metadata": {
        "id": "1zGv8OA_hgCU"
      }
    },
    {
      "cell_type": "markdown",
      "source": [
        "Defenisikan vektor"
      ],
      "metadata": {
        "id": "YV0zAJmHhq8o"
      }
    },
    {
      "cell_type": "code",
      "source": [
        "A = [[23,50,19],\n",
        "     [7,12,109],\n",
        "     [57,67,98]]\n",
        "mat_A = np.array(A)\n",
        "B =  [17,22,19]\n",
        "mat_B = np.array(B)\n",
        "\n",
        "print(\"perkalian waist : \\n\", mat_A * mat_B,'\\n')\n",
        "print(\"perkalian dot product : \\n\",mat_A @ mat_B)"
      ],
      "metadata": {
        "colab": {
          "base_uri": "https://localhost:8080/"
        },
        "id": "NIRbO2ijhqIf",
        "outputId": "a1d4c01f-ba95-434c-87a9-985e6068fcce"
      },
      "execution_count": 18,
      "outputs": [
        {
          "output_type": "stream",
          "name": "stdout",
          "text": [
            "perkalian waist : \n",
            " [[ 391 1100  361]\n",
            " [ 119  264 2071]\n",
            " [ 969 1474 1862]] \n",
            "\n",
            "perkalian dot product : \n",
            " [1852 2454 4305]\n"
          ]
        }
      ]
    },
    {
      "cell_type": "markdown",
      "source": [
        "**Problem 3**\n",
        "\n",
        "Lakukan Transpose, hitung determinan, dan inverse terhadap matrix dibawah ini:\n",
        "\n",
        "$$ \\begin{bmatrix} 23 & 50 & 19 \\\\ 7 & 12 & 109 \\\\ 57 & 67 & 98 \\end{bmatrix} $$\n"
      ],
      "metadata": {
        "id": "KNhZ8X2anJF-"
      }
    },
    {
      "cell_type": "code",
      "source": [
        "V=[[23,50,19],\n",
        "   [7,12,109],\n",
        "   [57,67,98]]\n",
        "TDI = np.array(V)\n",
        "\n",
        "print(TDI,'\\n',type(TDI))"
      ],
      "metadata": {
        "colab": {
          "base_uri": "https://localhost:8080/"
        },
        "id": "JfEquJWOnNoX",
        "outputId": "29186421-df93-445e-c625-57ae0f62a410"
      },
      "execution_count": 20,
      "outputs": [
        {
          "output_type": "stream",
          "name": "stdout",
          "text": [
            "[[ 23  50  19]\n",
            " [  7  12 109]\n",
            " [ 57  67  98]] \n",
            " <class 'numpy.ndarray'>\n"
          ]
        }
      ]
    },
    {
      "cell_type": "code",
      "source": [
        "TDI.T #menTranpose matrix  "
      ],
      "metadata": {
        "colab": {
          "base_uri": "https://localhost:8080/"
        },
        "id": "GjwrhomKnuVe",
        "outputId": "1a9db80b-bd0b-40c8-c55e-59884e191bec"
      },
      "execution_count": 21,
      "outputs": [
        {
          "output_type": "execute_result",
          "data": {
            "text/plain": [
              "array([[ 23,   7,  57],\n",
              "       [ 50,  12,  67],\n",
              "       [ 19, 109,  98]])"
            ]
          },
          "metadata": {},
          "execution_count": 21
        }
      ]
    },
    {
      "cell_type": "code",
      "source": [
        "np.linalg.det(TDI) #hitung Determinan"
      ],
      "metadata": {
        "colab": {
          "base_uri": "https://localhost:8080/"
        },
        "id": "5nRSXvCIoDtP",
        "outputId": "888643f6-24e5-4ecd-c2c0-456a6cc21b89"
      },
      "execution_count": 23,
      "outputs": [
        {
          "output_type": "execute_result",
          "data": {
            "text/plain": [
              "131344.0000000002"
            ]
          },
          "metadata": {},
          "execution_count": 23
        }
      ]
    },
    {
      "cell_type": "code",
      "source": [
        "np.linalg.inv(TDI) #Invers matrix TDI"
      ],
      "metadata": {
        "colab": {
          "base_uri": "https://localhost:8080/"
        },
        "id": "c0UlU2lmpcmE",
        "outputId": "111add6a-20b1-4616-e895-d4402cf237c6"
      },
      "execution_count": 25,
      "outputs": [
        {
          "output_type": "execute_result",
          "data": {
            "text/plain": [
              "array([[-0.0466485 , -0.02761451,  0.03975819],\n",
              "       [ 0.04208034,  0.00891552, -0.01807467],\n",
              "       [-0.00163692,  0.0099662 , -0.00056341]])"
            ]
          },
          "metadata": {},
          "execution_count": 25
        }
      ]
    }
  ],
  "metadata": {
    "language_info": {
      "name": "python"
    },
    "orig_nbformat": 4,
    "colab": {
      "provenance": []
    },
    "kernelspec": {
      "name": "python3",
      "display_name": "Python 3"
    }
  },
  "nbformat": 4,
  "nbformat_minor": 0
}